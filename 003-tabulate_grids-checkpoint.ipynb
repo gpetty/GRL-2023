{
 "cells": [
  {
   "cell_type": "markdown",
   "metadata": {},
   "source": [
    "# Tabulate Grids\n",
    "\n",
    "This Jupyter notebook examines ICOADS qualitative precipitation data (which should be pre-filtered beforehand) and bins them by $1^\\circ \\times 1^\\circ$ grid boxes (or, optionally, an arbitrary spatial binning). The data is assumed to be stored as a `pandas` dataframe of ship observations encoded as a `pickle` binary file."
   ]
  },
  {
   "cell_type": "code",
   "execution_count": null,
   "metadata": {},
   "outputs": [],
   "source": [
    "# Import useful libraries\n",
    "import numpy as np               # Numerical manipulations\n",
    "import pandas as pd              # Data tables\n",
    "import xarray as xr              # Gridded data\n",
    "from os.path import join         # System interfacing\n",
    "import pickle                    # Binary file input/output"
   ]
  },
  {
   "cell_type": "code",
   "execution_count": null,
   "metadata": {},
   "outputs": [],
   "source": [
    "# Export toggle: True if data will be exported to file\n",
    "export = True "
   ]
  },
  {
   "cell_type": "code",
   "execution_count": null,
   "metadata": {},
   "outputs": [],
   "source": [
    "data_dir = 'data/' # Directory for COADS data\n",
    "export_dir = 'export/' # Directory to export data"
   ]
  },
  {
   "cell_type": "markdown",
   "metadata": {},
   "source": [
    "First, we simply load the ship observations in and quickly examine the data to get a sense of what we're working with."
   ]
  },
  {
   "cell_type": "code",
   "execution_count": null,
   "metadata": {},
   "outputs": [],
   "source": [
    "data_fp = join(data_dir, 'coads_1950-2019_filtered.pkl') # Filepath to a Pickle file containing ship data\n",
    "with open(data_fp, 'rb') as f:\n",
    "    df = pickle.load(f) # Load data"
   ]
  },
  {
   "cell_type": "code",
   "execution_count": null,
   "metadata": {
    "scrolled": true
   },
   "outputs": [],
   "source": [
    "# Output a few example lines\n",
    "display(df.head())\n",
    "\n",
    "# Quickly check data\n",
    "print( 'Min/max latitude in data:' )\n",
    "print( np.min(df.LAT), np.max( df.LAT ) )\n",
    "\n",
    "print( 'Min/max longitude in data:' )\n",
    "print( np.min( df.LON ), np.max( df.LON ) )\n",
    "\n",
    "print( 'Data dimensions:' )\n",
    "print( df.shape )\n",
    "\n",
    "print( 'Range of years:' )\n",
    "print(df.YR.min(), '-', df.YR.max())"
   ]
  },
  {
   "cell_type": "markdown",
   "metadata": {},
   "source": [
    "## Bin data"
   ]
  },
  {
   "cell_type": "markdown",
   "metadata": {},
   "source": [
    "To bin the data, we first specify how the data will be binned. In this case, we will bin the data and aggregate counts in terms of years, months, latitudes (by 1 degree intervals), and longitudes (also by 1 degree intervals). **This section controls the binning intervals.**"
   ]
  },
  {
   "cell_type": "code",
   "execution_count": null,
   "metadata": {},
   "outputs": [],
   "source": [
    "# Spatial coordinates\n",
    "dlat = 1 # Interval size of latitude\n",
    "dlon = 1 # Interval size of longitude\n",
    "lats = np.arange(-90,90,dlat) # Array of latitudes (bottom of grid cells)\n",
    "lons = np.arange(0,360,dlon) # Array of longitudes (left of grid cells)\n",
    "\n",
    "# Time coordinates\n",
    "start_yr = df.YR.min() # The first year in the data\n",
    "end_yr = df.YR.max() # The final year in the data\n",
    "years = np.arange(start_yr,end_yr + 1) # Years in the data bounds\n",
    "months = np.arange(1,13) # Months in the data bouns"
   ]
  },
  {
   "cell_type": "markdown",
   "metadata": {},
   "source": [
    "Using the prescribed latitude and longitude bins, we will then assign each observation with an associated latitude and longitude value. In this case, that value is equal to `floor()` of the longitude or latitude value. This can be done more efficiently if binning was fixed, but the method below allows adjustment of the latitude and longitude bins to something other than $1^\\circ \\times 1^\\circ$ boxes."
   ]
  },
  {
   "cell_type": "code",
   "execution_count": null,
   "metadata": {},
   "outputs": [],
   "source": [
    "# Map longitudes and latitudes to common values for binning\n",
    "lon_bin = np.digitize(df.LON.values, bins=lons)\n",
    "lat_bin = np.digitize(df.LAT.values, bins=lats)\n",
    "\n",
    "# Add these bin labels to the dataframe\n",
    "df['LAT_BIN'] = lats[lat_bin-1]\n",
    "df['LON_BIN'] = lons[lon_bin-1]"
   ]
  },
  {
   "cell_type": "markdown",
   "metadata": {},
   "source": [
    "Next, we aggregate the data into frequency counts based on various parameters of interest. Each subset will be stored as a new dataframe."
   ]
  },
  {
   "cell_type": "code",
   "execution_count": null,
   "metadata": {},
   "outputs": [],
   "source": [
    "colgroups = ['YR','MO','LAT_BIN','LON_BIN'] # Columns to aggregate bins within\n",
    "\n",
    "df_reports = df.groupby(colgroups).size().to_frame()                 # For all reports\n",
    "df_precip = df.loc[df.WW >= 50].groupby(colgroups).size().to_frame() # For anything of at least a drizzle"
   ]
  },
  {
   "cell_type": "code",
   "execution_count": null,
   "metadata": {},
   "outputs": [],
   "source": [
    "# Adjust automated column headers to something more sensible...\n",
    "# Names should be unique if we want to use a unified gridded dataset\n",
    "df_reports.columns = ['total_count']\n",
    "df_precip.columns = ['precip_count']"
   ]
  },
  {
   "cell_type": "markdown",
   "metadata": {},
   "source": [
    "After the data is binned within the dataframe, we then convert the `pandas` dataframe into an `xarray` data array, which is tailored for gridded datasets. This allows us to map the data onto spatial coordinates."
   ]
  },
  {
   "cell_type": "code",
   "execution_count": null,
   "metadata": {},
   "outputs": [],
   "source": [
    "# Convert to xarray and fill in any missing years, months, latitude, or longitude bins with NaN counts\n",
    "reindexer = {'YR': years, 'MO': months, 'LAT_BIN': lats, 'LON_BIN': lons}\n",
    "\n",
    "ds_reports = df_reports.to_xarray().fillna(0).reindex(reindexer, fill_value=0)\n",
    "ds_precip = df_precip.to_xarray().fillna(0).reindex(reindexer, fill_value=0)\n",
    "\n",
    "# Merge data into a single xarray dataset\n",
    "ds = xr.merge([ds_reports, ds_precip])\n",
    "\n",
    "# Output a list of the variables included in the dataset\n",
    "list(ds.keys())"
   ]
  },
  {
   "cell_type": "markdown",
   "metadata": {},
   "source": [
    "The `xarray` dataset joining all variables can be exported as a netCDF file."
   ]
  },
  {
   "cell_type": "code",
   "execution_count": null,
   "metadata": {},
   "outputs": [],
   "source": [
    "if export:\n",
    "    ds.to_netcdf(path=join(export_dir, 'counts.nc'))"
   ]
  },
  {
   "cell_type": "markdown",
   "metadata": {},
   "source": [
    "The `xarray` data arrays store frequency counts at each grid box given the month and year. This data object can also be stored as a simple multi-dimensional `numpy` array for exporting data individually."
   ]
  },
  {
   "cell_type": "code",
   "execution_count": null,
   "metadata": {},
   "outputs": [],
   "source": [
    "# Store count arrays\n",
    "nreports = ds_reports.total_count.values\n",
    "nprecip = ds_precip.precip_count.values"
   ]
  },
  {
   "cell_type": "code",
   "execution_count": null,
   "metadata": {},
   "outputs": [],
   "source": [
    "# Optionally, export the data\n",
    "if export:\n",
    "    pickle.dump(nreports, open(join(export_dir, 'nreports.pkl'), 'wb'))\n",
    "    pickle.dump(nprecip, open(join(export_dir, 'nprecip.pkl'), 'wb'))"
   ]
  }
 ],
 "metadata": {
  "kernelspec": {
   "display_name": "Python 3",
   "language": "python",
   "name": "python3"
  },
  "language_info": {
   "codemirror_mode": {
    "name": "ipython",
    "version": 3
   },
   "file_extension": ".py",
   "mimetype": "text/x-python",
   "name": "python",
   "nbconvert_exporter": "python",
   "pygments_lexer": "ipython3",
   "version": "3.6.11"
  },
  "toc": {
   "nav_menu": {},
   "number_sections": true,
   "sideBar": true,
   "skip_h1_title": false,
   "title_cell": "Table of Contents",
   "title_sidebar": "Contents",
   "toc_cell": false,
   "toc_position": {},
   "toc_section_display": true,
   "toc_window_display": false
  }
 },
 "nbformat": 4,
 "nbformat_minor": 2
}
