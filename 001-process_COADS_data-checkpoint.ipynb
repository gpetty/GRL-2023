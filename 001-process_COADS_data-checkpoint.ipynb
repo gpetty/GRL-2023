{
 "cells": [
  {
   "cell_type": "markdown",
   "metadata": {},
   "source": [
    "# Processing COADS Data\n",
    "\n",
    "**ICOADS**, the (International) Comprehensive Ocean-Atmosphere Data Set, is \"the world's largest collection of marine surface in situ observations\" according to the [National Centers for Environmental Information](https://www.ncei.noaa.gov/access/metadata/landing-page/bin/iso?id=gov.noaa.ncdc:C00606), containing over 500 million observations from 1662 to the present. The dataset was first developed beginning in 1981 and continues to be augmented with both new observations and new data sources. You can read more about ICOADS on its [official website](https://icoads.noaa.gov/).\n",
    "\n",
    "ICOADS data access is provided by the UCAR Research Data Archive as [ds548.0](https://rda.ucar.edu/datasets/ds548.0/), though this requires user registration. The ICOADS datasets that were retrieved and manipulated by this Jupyter notebook were retrieved using the \"[Get a Subset](https://rda.ucar.edu/datasets/ds548-0/dataaccess/)\" feature on the UCAR dataset page. The following options were selected to specify the data order:\n",
    "\n",
    "- [x] A date range from `1950-01-01` to `2019-12-31`\n",
    "- [x] **Enhanced Filtering**, the default filtering settings, were used, without any modification to the filtering's additional options. Thus, the outlier threshold was 4.5 sigma and both source exclusion and NCDC QC flags were used. The filter options should appear as `0 1 0 0 2 1`\n",
    "- [x] Selected parameters included `YR`, `MO`, `DY`, `HR`, `LAT`, `LON`, `ID`, `WW*`, `N*`, `DCK`, `SID`, `PT`, `IX`\n",
    "- [x] Platform type selection of `0`, `1`, `2`, `3`, `4`, `5`\n",
    "- [x] GNU zip file compression\n",
    "- [x] Combined output into tar files\n",
    "\n",
    "The last two settings were mostly for convenience. Once the data was downloaded onto the system, the files were untarred and unzipped, producing numerous CSV files. **This Jupyter dataset begins with the presumption that there exists a directory where these COADS CSV files are located.**\n",
    "<!--The last two settings were mostly for convenience. Once the data was downloaded onto the system, the files were untarred and unzipped, producing CSV files. The Unix command `head -n 1 file1.csv > combined.out && tail -n+2 -q *.csv >> combined.out` (see [this StackOverflow entry](https://unix.stackexchange.com/questions/293775/merging-contents-of-multiple-csv-files-into-single-csv-file)) was then issued within the data directory, producing a single CSV file that contains all of the data merged together. **This Jupyter dataset begins with the presumption that a singular CSV containing the combination of all data ordered from UCAR exists.**-->"
   ]
  },
  {
   "cell_type": "code",
   "execution_count": 1,
   "metadata": {},
   "outputs": [],
   "source": [
    "import pandas as pd  # Sampled data\n",
    "import numpy as np   # Numerical manipulation\n",
    "\n",
    "# System interfacing\n",
    "from os import listdir                    \n",
    "from os.path import isfile, join\n",
    "import pickle"
   ]
  },
  {
   "cell_type": "markdown",
   "metadata": {},
   "source": [
    "Find and create a list of all files in the data directory. These should all be CSVs (not in an IMMA format) and result from performing the relevant ICOADS subset request on the UCAR website."
   ]
  },
  {
   "cell_type": "code",
   "execution_count": 2,
   "metadata": {},
   "outputs": [],
   "source": [
    "raw_dir = 'raw/' # Directory containing the raw CSV files\n",
    "\n",
    "# Create list of files; they are CSV files and are in the [raw_dir] folder\n",
    "data_fns = [f for f in listdir(raw_dir) if (isfile(join(raw_dir, f)) and f.endswith('.csv'))]\n",
    "data_fns = sorted(data_fns)"
   ]
  },
  {
   "cell_type": "markdown",
   "metadata": {},
   "source": [
    "With all the COADS CSV filepaths located, the next step is to build large, overarching Pandas dataframes that will include the concatenation of data from the COADS data directory. `read_csv()` is set to ignore (but warn) on malformed entries (typically these are rows where observation IDs have commas), so some entires are automatically removed.\n",
    "\n",
    "This is a memory-intensive process, so it may be helpful to slice `data_fns` so that only a few files are processed and grouped together at a time. One workflow would be to process a subset of files (i.e. representing a range of dates), export them as binaries (using the `pickle` library), and then after binaries have been created encompassing all of the data, concatenate them into a single Pandas dataframe."
   ]
  },
  {
   "cell_type": "code",
   "execution_count": 4,
   "metadata": {
    "scrolled": true
   },
   "outputs": [
    {
     "name": "stdout",
     "output_type": "stream",
     "text": [
      "ICOADS_R3.0_Rqst600817_20160101-20160107.csv\n",
      "ICOADS_R3.0_Rqst600817_20160108-20160114.csv\n",
      "ICOADS_R3.0_Rqst600817_20160115-20160121.csv\n",
      "ICOADS_R3.0_Rqst600817_20160122-20160128.csv\n",
      "ICOADS_R3.0_Rqst600817_20160129-20160204.csv\n",
      "ICOADS_R3.0_Rqst600817_20160205-20160211.csv\n",
      "ICOADS_R3.0_Rqst600817_20160212-20160218.csv\n",
      "ICOADS_R3.0_Rqst600817_20160219-20160225.csv\n",
      "ICOADS_R3.0_Rqst600817_20160226-20160303.csv\n",
      "ICOADS_R3.0_Rqst600817_20160304-20160310.csv\n",
      "ICOADS_R3.0_Rqst600817_20160311-20160317.csv\n",
      "ICOADS_R3.0_Rqst600817_20160318-20160324.csv\n",
      "ICOADS_R3.0_Rqst600817_20160325-20160401.csv\n",
      "ICOADS_R3.0_Rqst600817_20160402-20160408.csv\n",
      "ICOADS_R3.0_Rqst600817_20160409-20160416.csv\n",
      "ICOADS_R3.0_Rqst600817_20160417-20160423.csv\n",
      "ICOADS_R3.0_Rqst600817_20160424-20160430.csv\n",
      "ICOADS_R3.0_Rqst600817_20160501-20160507.csv\n",
      "ICOADS_R3.0_Rqst600817_20160508-20160514.csv\n",
      "ICOADS_R3.0_Rqst600817_20160515-20160521.csv\n",
      "ICOADS_R3.0_Rqst600817_20160522-20160528.csv\n",
      "ICOADS_R3.0_Rqst600817_20160529-20160604.csv\n",
      "ICOADS_R3.0_Rqst600817_20160605-20160611.csv\n",
      "ICOADS_R3.0_Rqst600817_20160612-20160618.csv\n",
      "ICOADS_R3.0_Rqst600817_20160619-20160625.csv\n",
      "ICOADS_R3.0_Rqst600817_20160626-20160702.csv\n",
      "ICOADS_R3.0_Rqst600817_20160703-20160709.csv\n",
      "ICOADS_R3.0_Rqst600817_20160710-20160716.csv\n",
      "ICOADS_R3.0_Rqst600817_20160717-20160723.csv\n",
      "ICOADS_R3.0_Rqst600817_20160724-20160730.csv\n",
      "ICOADS_R3.0_Rqst600817_20160731-20160806.csv\n",
      "ICOADS_R3.0_Rqst600817_20160807-20160813.csv\n",
      "ICOADS_R3.0_Rqst600817_20160814-20160820.csv\n",
      "ICOADS_R3.0_Rqst600817_20160821-20160827.csv\n",
      "ICOADS_R3.0_Rqst600817_20160828-20160903.csv\n",
      "ICOADS_R3.0_Rqst600817_20160904-20160910.csv\n",
      "ICOADS_R3.0_Rqst600817_20160911-20160917.csv\n",
      "ICOADS_R3.0_Rqst600817_20160918-20160924.csv\n",
      "ICOADS_R3.0_Rqst600817_20160925-20161001.csv\n",
      "ICOADS_R3.0_Rqst600817_20161002-20161007.csv\n",
      "ICOADS_R3.0_Rqst600817_20161008-20161013.csv\n",
      "ICOADS_R3.0_Rqst600817_20161014-20161020.csv\n",
      "ICOADS_R3.0_Rqst600817_20161021-20161027.csv\n",
      "ICOADS_R3.0_Rqst600817_20161028-20161103.csv\n",
      "ICOADS_R3.0_Rqst600817_20161104-20161110.csv\n",
      "ICOADS_R3.0_Rqst600817_20161111-20161117.csv\n",
      "ICOADS_R3.0_Rqst600817_20161118-20161124.csv\n",
      "ICOADS_R3.0_Rqst600817_20161125-20161201.csv\n",
      "ICOADS_R3.0_Rqst600817_20161202-20161208.csv\n",
      "ICOADS_R3.0_Rqst600817_20161209-20161215.csv\n",
      "ICOADS_R3.0_Rqst600817_20161216-20161222.csv\n",
      "ICOADS_R3.0_Rqst600817_20161223-20161229.csv\n",
      "ICOADS_R3.0_Rqst600817_20161230-20170105.csv\n",
      "ICOADS_R3.0_Rqst600817_20170106-20170112.csv\n",
      "ICOADS_R3.0_Rqst600817_20170113-20170119.csv\n",
      "ICOADS_R3.0_Rqst600817_20170120-20170126.csv\n",
      "ICOADS_R3.0_Rqst600817_20170127-20170202.csv\n",
      "ICOADS_R3.0_Rqst600817_20170203-20170209.csv\n",
      "ICOADS_R3.0_Rqst600817_20170210-20170216.csv\n",
      "ICOADS_R3.0_Rqst600817_20170217-20170223.csv\n",
      "ICOADS_R3.0_Rqst600817_20170224-20170302.csv\n",
      "ICOADS_R3.0_Rqst600817_20170303-20170309.csv\n",
      "ICOADS_R3.0_Rqst600817_20170310-20170316.csv\n",
      "ICOADS_R3.0_Rqst600817_20170317-20170323.csv\n",
      "ICOADS_R3.0_Rqst600817_20170324-20170330.csv\n",
      "ICOADS_R3.0_Rqst600817_20170331-20170406.csv\n",
      "ICOADS_R3.0_Rqst600817_20170407-20170414.csv\n",
      "ICOADS_R3.0_Rqst600817_20170415-20170422.csv\n",
      "ICOADS_R3.0_Rqst600817_20170423-20170429.csv\n",
      "ICOADS_R3.0_Rqst600817_20170430-20170506.csv\n",
      "ICOADS_R3.0_Rqst600817_20170507-20170513.csv\n",
      "ICOADS_R3.0_Rqst600817_20170514-20170520.csv\n",
      "ICOADS_R3.0_Rqst600817_20170521-20170527.csv\n",
      "ICOADS_R3.0_Rqst600817_20170528-20170603.csv\n",
      "ICOADS_R3.0_Rqst600817_20170604-20170610.csv\n",
      "ICOADS_R3.0_Rqst600817_20170611-20170617.csv\n",
      "ICOADS_R3.0_Rqst600817_20170618-20170624.csv\n",
      "ICOADS_R3.0_Rqst600817_20170625-20170701.csv\n",
      "ICOADS_R3.0_Rqst600817_20170702-20170708.csv\n",
      "ICOADS_R3.0_Rqst600817_20170709-20170715.csv\n",
      "ICOADS_R3.0_Rqst600817_20170716-20170722.csv\n",
      "ICOADS_R3.0_Rqst600817_20170723-20170729.csv\n",
      "ICOADS_R3.0_Rqst600817_20170730-20170805.csv\n",
      "ICOADS_R3.0_Rqst600817_20170806-20170812.csv\n",
      "ICOADS_R3.0_Rqst600817_20170813-20170819.csv\n",
      "ICOADS_R3.0_Rqst600817_20170820-20170826.csv\n",
      "ICOADS_R3.0_Rqst600817_20170827-20170902.csv\n",
      "ICOADS_R3.0_Rqst600817_20170903-20170909.csv\n",
      "ICOADS_R3.0_Rqst600817_20170910-20170916.csv\n",
      "ICOADS_R3.0_Rqst600817_20170917-20170923.csv\n",
      "ICOADS_R3.0_Rqst600817_20170924-20170930.csv\n",
      "ICOADS_R3.0_Rqst600817_20171001-20171007.csv\n",
      "ICOADS_R3.0_Rqst600817_20171008-20171014.csv\n",
      "ICOADS_R3.0_Rqst600817_20171015-20171021.csv\n",
      "ICOADS_R3.0_Rqst600817_20171022-20171028.csv\n",
      "ICOADS_R3.0_Rqst600817_20171029-20171104.csv\n",
      "ICOADS_R3.0_Rqst600817_20171105-20171111.csv\n",
      "ICOADS_R3.0_Rqst600817_20171112-20171119.csv\n",
      "ICOADS_R3.0_Rqst600817_20171120-20171126.csv\n",
      "ICOADS_R3.0_Rqst600817_20171127-20171203.csv\n",
      "ICOADS_R3.0_Rqst600817_20171204-20171211.csv\n",
      "ICOADS_R3.0_Rqst600817_20171212-20171219.csv\n",
      "ICOADS_R3.0_Rqst600817_20171220-20171226.csv\n",
      "ICOADS_R3.0_Rqst600817_20171227-20180103.csv\n",
      "ICOADS_R3.0_Rqst600817_20180104-20180111.csv\n",
      "ICOADS_R3.0_Rqst600817_20180112-20180119.csv\n",
      "ICOADS_R3.0_Rqst600817_20180120-20180127.csv\n",
      "ICOADS_R3.0_Rqst600817_20180128-20180203.csv\n",
      "ICOADS_R3.0_Rqst600817_20180204-20180210.csv\n",
      "ICOADS_R3.0_Rqst600817_20180211-20180217.csv\n",
      "ICOADS_R3.0_Rqst600817_20180218-20180225.csv\n",
      "ICOADS_R3.0_Rqst600817_20180226-20180305.csv\n",
      "ICOADS_R3.0_Rqst600817_20180306-20180313.csv\n",
      "ICOADS_R3.0_Rqst600817_20180314-20180321.csv\n",
      "ICOADS_R3.0_Rqst600817_20180322-20180328.csv\n",
      "ICOADS_R3.0_Rqst600817_20180329-20180404.csv\n",
      "ICOADS_R3.0_Rqst600817_20180405-20180412.csv\n",
      "ICOADS_R3.0_Rqst600817_20180413-20180419.csv\n",
      "ICOADS_R3.0_Rqst600817_20180420-20180427.csv\n",
      "ICOADS_R3.0_Rqst600817_20180428-20180504.csv\n",
      "ICOADS_R3.0_Rqst600817_20180505-20180511.csv\n",
      "ICOADS_R3.0_Rqst600817_20180512-20180518.csv\n",
      "ICOADS_R3.0_Rqst600817_20180519-20180525.csv\n",
      "ICOADS_R3.0_Rqst600817_20180526-20180531.csv\n",
      "ICOADS_R3.0_Rqst600817_20180601-20180606.csv\n",
      "ICOADS_R3.0_Rqst600817_20180607-20180613.csv\n",
      "ICOADS_R3.0_Rqst600817_20180614-20180620.csv\n",
      "ICOADS_R3.0_Rqst600817_20180621-20180627.csv\n",
      "ICOADS_R3.0_Rqst600817_20180628-20180704.csv\n",
      "ICOADS_R3.0_Rqst600817_20180705-20180711.csv\n",
      "ICOADS_R3.0_Rqst600817_20180712-20180718.csv\n",
      "ICOADS_R3.0_Rqst600817_20180719-20180725.csv\n",
      "ICOADS_R3.0_Rqst600817_20180726-20180801.csv\n",
      "ICOADS_R3.0_Rqst600817_20180802-20180808.csv\n",
      "ICOADS_R3.0_Rqst600817_20180809-20180815.csv\n",
      "ICOADS_R3.0_Rqst600817_20180816-20180822.csv\n",
      "ICOADS_R3.0_Rqst600817_20180823-20180829.csv\n",
      "ICOADS_R3.0_Rqst600817_20180830-20180905.csv\n",
      "ICOADS_R3.0_Rqst600817_20180906-20180913.csv\n",
      "ICOADS_R3.0_Rqst600817_20180914-20180920.csv\n",
      "ICOADS_R3.0_Rqst600817_20180921-20180927.csv\n",
      "ICOADS_R3.0_Rqst600817_20180928-20181004.csv\n",
      "ICOADS_R3.0_Rqst600817_20181005-20181011.csv\n",
      "ICOADS_R3.0_Rqst600817_20181012-20181018.csv\n",
      "ICOADS_R3.0_Rqst600817_20181019-20181025.csv\n",
      "ICOADS_R3.0_Rqst600817_20181026-20181101.csv\n",
      "ICOADS_R3.0_Rqst600817_20181102-20181108.csv\n",
      "ICOADS_R3.0_Rqst600817_20181109-20181115.csv\n",
      "ICOADS_R3.0_Rqst600817_20181116-20181122.csv\n",
      "ICOADS_R3.0_Rqst600817_20181123-20181129.csv\n",
      "ICOADS_R3.0_Rqst600817_20181130-20181206.csv\n",
      "ICOADS_R3.0_Rqst600817_20181207-20181213.csv\n",
      "ICOADS_R3.0_Rqst600817_20181214-20181220.csv\n",
      "ICOADS_R3.0_Rqst600817_20181221-20181227.csv\n",
      "ICOADS_R3.0_Rqst600817_20181228-20190104.csv\n",
      "ICOADS_R3.0_Rqst600817_20190105-20190112.csv\n",
      "ICOADS_R3.0_Rqst600817_20190113-20190120.csv\n",
      "ICOADS_R3.0_Rqst600817_20190121-20190128.csv\n",
      "ICOADS_R3.0_Rqst600817_20190129-20190205.csv\n",
      "ICOADS_R3.0_Rqst600817_20190206-20190212.csv\n",
      "ICOADS_R3.0_Rqst600817_20190213-20190219.csv\n",
      "ICOADS_R3.0_Rqst600817_20190220-20190226.csv\n",
      "ICOADS_R3.0_Rqst600817_20190227-20190306.csv\n",
      "ICOADS_R3.0_Rqst600817_20190307-20190314.csv\n",
      "ICOADS_R3.0_Rqst600817_20190315-20190322.csv\n",
      "ICOADS_R3.0_Rqst600817_20190323-20190329.csv\n",
      "ICOADS_R3.0_Rqst600817_20190330-20190405.csv\n",
      "ICOADS_R3.0_Rqst600817_20190406-20190413.csv\n",
      "ICOADS_R3.0_Rqst600817_20190414-20190420.csv\n",
      "ICOADS_R3.0_Rqst600817_20190421-20190427.csv\n",
      "ICOADS_R3.0_Rqst600817_20190428-20190504.csv\n",
      "ICOADS_R3.0_Rqst600817_20190505-20190511.csv\n",
      "ICOADS_R3.0_Rqst600817_20190512-20190518.csv\n",
      "ICOADS_R3.0_Rqst600817_20190519-20190525.csv\n",
      "ICOADS_R3.0_Rqst600817_20190526-20190601.csv\n",
      "ICOADS_R3.0_Rqst600817_20190602-20190608.csv\n",
      "ICOADS_R3.0_Rqst600817_20190609-20190615.csv\n",
      "ICOADS_R3.0_Rqst600817_20190616-20190623.csv\n",
      "ICOADS_R3.0_Rqst600817_20190624-20190630.csv\n",
      "ICOADS_R3.0_Rqst600817_20190701-20190707.csv\n",
      "ICOADS_R3.0_Rqst600817_20190708-20190714.csv\n",
      "ICOADS_R3.0_Rqst600817_20190715-20190721.csv\n",
      "ICOADS_R3.0_Rqst600817_20190722-20190728.csv\n"
     ]
    },
    {
     "name": "stdout",
     "output_type": "stream",
     "text": [
      "ICOADS_R3.0_Rqst600817_20190729-20190804.csv\n",
      "ICOADS_R3.0_Rqst600817_20190805-20190811.csv\n",
      "ICOADS_R3.0_Rqst600817_20190812-20190818.csv\n",
      "ICOADS_R3.0_Rqst600817_20190819-20190825.csv\n",
      "ICOADS_R3.0_Rqst600817_20190826-20190901.csv\n",
      "ICOADS_R3.0_Rqst600817_20190902-20190908.csv\n",
      "ICOADS_R3.0_Rqst600817_20190909-20190915.csv\n",
      "ICOADS_R3.0_Rqst600817_20190916-20190922.csv\n",
      "ICOADS_R3.0_Rqst600817_20190923-20190929.csv\n",
      "ICOADS_R3.0_Rqst600817_20190930-20191006.csv\n",
      "ICOADS_R3.0_Rqst600817_20191007-20191013.csv\n",
      "ICOADS_R3.0_Rqst600817_20191014-20191020.csv\n",
      "ICOADS_R3.0_Rqst600817_20191021-20191027.csv\n",
      "ICOADS_R3.0_Rqst600817_20191028-20191103.csv\n",
      "ICOADS_R3.0_Rqst600817_20191104-20191110.csv\n",
      "ICOADS_R3.0_Rqst600817_20191111-20191117.csv\n",
      "ICOADS_R3.0_Rqst600817_20191118-20191124.csv\n",
      "ICOADS_R3.0_Rqst600817_20191125-20191201.csv\n",
      "ICOADS_R3.0_Rqst600817_20191202-20191208.csv\n",
      "ICOADS_R3.0_Rqst600817_20191209-20191215.csv\n",
      "ICOADS_R3.0_Rqst600817_20191216-20191222.csv\n",
      "ICOADS_R3.0_Rqst600817_20191223-20191229.csv\n",
      "ICOADS_R3.0_Rqst600817_20191230-20191231.csv\n"
     ]
    }
   ],
   "source": [
    "coads_df = None # Container for the dataframe that will aggregate data from the files in [data_fns]\n",
    "\n",
    "# For each file in [data_fns], load it using Pandas and then concatenate it to an aggregating dataframe [coads_df].\n",
    "for fn in data_fns:\n",
    "    print(fn) # Print filename of CSV being processed\n",
    "    data_fp = join(raw_dir, fn)\n",
    "    df = pd.read_csv(data_fp, on_bad_lines = 'warn', quoting = 3)\n",
    "    if coads_df is None:\n",
    "        coads_df = df\n",
    "    else:\n",
    "        coads_df = pd.concat([coads_df, df]) # Concatenate dataframe to the aggregating dataframe"
   ]
  },
  {
   "cell_type": "markdown",
   "metadata": {},
   "source": [
    "The downloaded data from UCAR contains a few fields that can be dropped from the dataframe to make processing a little faster, as these will be unused."
   ]
  },
  {
   "cell_type": "code",
   "execution_count": 5,
   "metadata": {},
   "outputs": [],
   "source": [
    "coads_df = coads_df.drop(['DCK', 'UID', 'RN1', 'RN2', 'RN3', 'RSA', 'IRF'], axis = 1) # Drop processing elements"
   ]
  },
  {
   "cell_type": "markdown",
   "metadata": {},
   "source": [
    "Let's review the data we have:"
   ]
  },
  {
   "cell_type": "code",
   "execution_count": null,
   "metadata": {},
   "outputs": [],
   "source": [
    "coads_df"
   ]
  },
  {
   "cell_type": "markdown",
   "metadata": {},
   "source": [
    "## Data Cleanup"
   ]
  },
  {
   "cell_type": "markdown",
   "metadata": {},
   "source": [
    "If we wish to revisit the large dataset at a later time, we will need to save the dataset to a file. When pandas originally processed the CSV file, it assumed generous memory to the data columns to ensure everything fit, assigning large data types to the columns. However, if we wish to save the file, we should use as narrowly constrained data types as possible to save on disk space. \n",
    "\n",
    "First, let's check out what datatypes are currently assigned to the data fields:"
   ]
  },
  {
   "cell_type": "code",
   "execution_count": 6,
   "metadata": {},
   "outputs": [
    {
     "data": {
      "text/plain": [
       "YR       int64\n",
       "MO       int64\n",
       "DY       int64\n",
       "HR     float64\n",
       "LAT    float64\n",
       "LON    float64\n",
       "II       int64\n",
       "ID      object\n",
       "WW     float64\n",
       "AT     float64\n",
       "SST    float64\n",
       "N      float64\n",
       "DCK      int64\n",
       "SID      int64\n",
       "PT     float64\n",
       "OS     float64\n",
       "OP     float64\n",
       "IX     float64\n",
       "RRR    float64\n",
       "OPM    float64\n",
       "KOV    float64\n",
       "dtype: object"
      ]
     },
     "execution_count": 6,
     "metadata": {},
     "output_type": "execute_result"
    }
   ],
   "source": [
    "coads_df.dtypes"
   ]
  },
  {
   "cell_type": "markdown",
   "metadata": {},
   "source": [
    "Then reformat some of the fields to more efficient data types:"
   ]
  },
  {
   "cell_type": "code",
   "execution_count": 7,
   "metadata": {},
   "outputs": [],
   "source": [
    "coads_df.YR = coads_df.YR.astype(np.int16)\n",
    "coads_df.MO = coads_df.MO.astype(np.int8)\n",
    "coads_df.DY = coads_df.DY.astype(np.int8)\n",
    "coads_df.HR = coads_df.HR.astype(np.float32)\n",
    "coads_df.LAT = coads_df.LAT.astype(np.float32)\n",
    "coads_df.LON = coads_df.LON.astype(np.float32)\n",
    "coads_df.DCK = coads_df.DCK.astype(np.int16)\n",
    "coads_df.SID = coads_df.SID.astype(np.int16)"
   ]
  },
  {
   "cell_type": "markdown",
   "metadata": {},
   "source": [
    "Some fields can't be simply coerced into a different data type because they are mix of real values and `NaN`s. For these, we replace `NaN` values with `-1` and then convert those columns to the smaller data types. We will need to keep in mind that `-1` is our notation for a missing value."
   ]
  },
  {
   "cell_type": "code",
   "execution_count": null,
   "metadata": {},
   "outputs": [],
   "source": [
    "coads_df = coads_df.fillna(-1)\n",
    "\n",
    "# Coerce data types for these columns\n",
    "coads_df.WW = coads_df.WW.astype(np.int8)\n",
    "coads_df.N = coads_df.N.astype(np.int8)\n",
    "coads_df.PT = coads_df.PT.astype(np.int8)\n",
    "coads_df.IX = coads_df.IX.astype(np.int8)\n",
    "\n",
    "coads_df.dtypes"
   ]
  },
  {
   "cell_type": "code",
   "execution_count": 8,
   "metadata": {
    "scrolled": true
   },
   "outputs": [
    {
     "name": "stderr",
     "output_type": "stream",
     "text": [
      "/tmp/ipykernel_44136/536729285.py:2: SettingWithCopyWarning: \n",
      "A value is trying to be set on a copy of a slice from a DataFrame\n",
      "\n",
      "See the caveats in the documentation: https://pandas.pydata.org/pandas-docs/stable/user_guide/indexing.html#returning-a-view-versus-a-copy\n",
      "  coads_df.N[coads_df.N.isnull()] = -1\n",
      "/tmp/ipykernel_44136/536729285.py:3: SettingWithCopyWarning: \n",
      "A value is trying to be set on a copy of a slice from a DataFrame\n",
      "\n",
      "See the caveats in the documentation: https://pandas.pydata.org/pandas-docs/stable/user_guide/indexing.html#returning-a-view-versus-a-copy\n",
      "  coads_df.II[coads_df.II.isnull()] = -1\n",
      "/tmp/ipykernel_44136/536729285.py:4: SettingWithCopyWarning: \n",
      "A value is trying to be set on a copy of a slice from a DataFrame\n",
      "\n",
      "See the caveats in the documentation: https://pandas.pydata.org/pandas-docs/stable/user_guide/indexing.html#returning-a-view-versus-a-copy\n",
      "  coads_df.WW[coads_df.WW.isnull()] = -1\n",
      "/tmp/ipykernel_44136/536729285.py:5: SettingWithCopyWarning: \n",
      "A value is trying to be set on a copy of a slice from a DataFrame\n",
      "\n",
      "See the caveats in the documentation: https://pandas.pydata.org/pandas-docs/stable/user_guide/indexing.html#returning-a-view-versus-a-copy\n",
      "  coads_df.PT[coads_df.PT.isnull()] = -1\n",
      "/tmp/ipykernel_44136/536729285.py:6: SettingWithCopyWarning: \n",
      "A value is trying to be set on a copy of a slice from a DataFrame\n",
      "\n",
      "See the caveats in the documentation: https://pandas.pydata.org/pandas-docs/stable/user_guide/indexing.html#returning-a-view-versus-a-copy\n",
      "  coads_df.OS[coads_df.OS.isnull()] = -1\n",
      "/tmp/ipykernel_44136/536729285.py:7: SettingWithCopyWarning: \n",
      "A value is trying to be set on a copy of a slice from a DataFrame\n",
      "\n",
      "See the caveats in the documentation: https://pandas.pydata.org/pandas-docs/stable/user_guide/indexing.html#returning-a-view-versus-a-copy\n",
      "  coads_df.OP[coads_df.OP.isnull()] = -1\n",
      "/tmp/ipykernel_44136/536729285.py:8: SettingWithCopyWarning: \n",
      "A value is trying to be set on a copy of a slice from a DataFrame\n",
      "\n",
      "See the caveats in the documentation: https://pandas.pydata.org/pandas-docs/stable/user_guide/indexing.html#returning-a-view-versus-a-copy\n",
      "  coads_df.IX[coads_df.IX.isnull()] = -1\n",
      "/tmp/ipykernel_44136/536729285.py:9: SettingWithCopyWarning: \n",
      "A value is trying to be set on a copy of a slice from a DataFrame\n",
      "\n",
      "See the caveats in the documentation: https://pandas.pydata.org/pandas-docs/stable/user_guide/indexing.html#returning-a-view-versus-a-copy\n",
      "  coads_df.OPM[coads_df.OPM.isnull()] = -1\n",
      "/tmp/ipykernel_44136/536729285.py:11: SettingWithCopyWarning: \n",
      "A value is trying to be set on a copy of a slice from a DataFrame\n",
      "\n",
      "See the caveats in the documentation: https://pandas.pydata.org/pandas-docs/stable/user_guide/indexing.html#returning-a-view-versus-a-copy\n",
      "  coads_df.AT[coads_df.AT.isnull()] = -999\n",
      "/tmp/ipykernel_44136/536729285.py:12: SettingWithCopyWarning: \n",
      "A value is trying to be set on a copy of a slice from a DataFrame\n",
      "\n",
      "See the caveats in the documentation: https://pandas.pydata.org/pandas-docs/stable/user_guide/indexing.html#returning-a-view-versus-a-copy\n",
      "  coads_df.RRR[coads_df.RRR.isnull()] = -999\n",
      "/tmp/ipykernel_44136/536729285.py:13: SettingWithCopyWarning: \n",
      "A value is trying to be set on a copy of a slice from a DataFrame\n",
      "\n",
      "See the caveats in the documentation: https://pandas.pydata.org/pandas-docs/stable/user_guide/indexing.html#returning-a-view-versus-a-copy\n",
      "  coads_df.SST[coads_df.SST.isnull()] = -999\n",
      "/tmp/ipykernel_44136/536729285.py:15: SettingWithCopyWarning: \n",
      "A value is trying to be set on a copy of a slice from a DataFrame\n",
      "\n",
      "See the caveats in the documentation: https://pandas.pydata.org/pandas-docs/stable/user_guide/indexing.html#returning-a-view-versus-a-copy\n",
      "  coads_df.KOV[coads_df.KOV.isnull()] = 'N/A'\n"
     ]
    },
    {
     "data": {
      "text/plain": [
       "YR       int16\n",
       "MO        int8\n",
       "DY        int8\n",
       "HR     float32\n",
       "LAT    float32\n",
       "LON    float32\n",
       "II        int8\n",
       "ID      object\n",
       "WW        int8\n",
       "AT     float32\n",
       "SST    float32\n",
       "N         int8\n",
       "DCK      int16\n",
       "SID      int16\n",
       "PT        int8\n",
       "OS        int8\n",
       "OP        int8\n",
       "IX        int8\n",
       "RRR    float32\n",
       "OPM       int8\n",
       "KOV     object\n",
       "dtype: object"
      ]
     },
     "execution_count": 8,
     "metadata": {},
     "output_type": "execute_result"
    }
   ],
   "source": [
    "# Replace null values with simple placeholder values\n",
    "coads_df.N[coads_df.N.isnull()] = -1 \n",
    "coads_df.II[coads_df.II.isnull()] = -1 \n",
    "coads_df.WW[coads_df.WW.isnull()] = -1 \n",
    "coads_df.PT[coads_df.PT.isnull()] = -1 \n",
    "coads_df.IX[coads_df.IX.isnull()] = -1 \n",
    "\n",
    "# Coerce data types for these columns\n",
    "coads_df.WW = coads_df.WW.astype(np.int8)\n",
    "coads_df.N = coads_df.N.astype(np.int8)\n",
    "coads_df.PT = coads_df.PT.astype(np.int8)\n",
    "coads_df.IX = coads_df.IX.astype(np.int8)\n",
    "coads_df.dtypes"
   ]
  },
  {
   "cell_type": "markdown",
   "metadata": {},
   "source": [
    "And, finally, review our data types again to ensure we are using less memory intensive data types:"
   ]
  },
  {
   "cell_type": "code",
   "execution_count": null,
   "metadata": {},
   "outputs": [],
   "source": [
    "coads_df.dtypes"
   ]
  },
  {
   "cell_type": "markdown",
   "metadata": {},
   "source": [
    "## Exporting Data"
   ]
  },
  {
   "cell_type": "markdown",
   "metadata": {},
   "source": [
    "Generally, it would be preferable to work with data not within the same notebook as when we initially processed the data. Thus, it's a good idea to export the data to files so we can analyze them at a later time. To do this, we will use the `pickle` library to save the data to a binary file (which saves up on some disk space, assuming you've deleted the raw CSVs after processing). The function `save_dataframe()` below streamlines the process of saving a dataframe to a file."
   ]
  },
  {
   "cell_type": "code",
   "execution_count": 3,
   "metadata": {},
   "outputs": [],
   "source": [
    "def save_dataframe( df, export_fp ):\n",
    "    \"\"\"This helper function saves the dataframe [df] to the filepath [export_fp]\"\"\"\n",
    "    f = open( export_fp, 'wb+' )\n",
    "    pickle.dump( df, f )\n",
    "    f.close()"
   ]
  },
  {
   "cell_type": "code",
   "execution_count": 10,
   "metadata": {},
   "outputs": [],
   "source": [
    "data_dir = 'data/' # Directory where observation data used by the analysis will be located\n",
    "\n",
    "save_dataframe(coads_df, join(raw_dir, 'coads_1950-2019_complete.pkl')) # Export the data"
   ]
  },
  {
   "cell_type": "markdown",
   "metadata": {},
   "source": [
    "For the purposes of this analysis, we will be filtering the dataset with the following exclusions:\n",
    "- [ ] Ships with missing platform types (`PT = -1`)\n",
    "- [ ] Reports that are tagged as automated (`IX >= 4`)\n",
    "- [ ] Ocean Station Vessels (`PT == 2` or `PT == 3`)\n",
    "- [ ] Ships that report neither cloud cover nor present weather (`N == -1` and `WW == -1`)\n",
    "We can export this filtered dataset to a separate file:"
   ]
  },
  {
   "cell_type": "code",
   "execution_count": null,
   "metadata": {},
   "outputs": [],
   "source": [
    "coads_df = coads_df.loc[(coads_df.PT != -1)] # Exclude missing platform types\n",
    "coads_df = coads_df.loc[(coads_df.IX < 4)] # Exclude explicitly automated reports\n",
    "coads_df = coads_df.loc[(coads_df.N != -1) | (coads_df.WW != -1)] # Shops must report either N or WW\n",
    "coads_df = coads_df.loc[(coads_df.PT != 2) & (coads_df.PT != 3)] # Ignore OSVs\n",
    "\n",
    "save_dataframe(coads_df, join(raw_dir, 'coads_1950-2019_filtered.pkl'))"
   ]
  }
 ],
 "metadata": {
  "kernelspec": {
   "display_name": "Python 3",
   "language": "python",
   "name": "python3"
  },
  "language_info": {
   "codemirror_mode": {
    "name": "ipython",
    "version": 3
   },
   "file_extension": ".py",
   "mimetype": "text/x-python",
   "name": "python",
   "nbconvert_exporter": "python",
   "pygments_lexer": "ipython3",
   "version": "3.6.11"
  }
 },
 "nbformat": 4,
 "nbformat_minor": 5
}
