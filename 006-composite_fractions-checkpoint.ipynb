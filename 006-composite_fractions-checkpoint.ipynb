{
 "cells": [
  {
   "cell_type": "markdown",
   "metadata": {},
   "source": [
    "# Composite Fractions\n",
    "\n",
    "This Python notebook uses the varying spatial windows used to aggregate data (along with the estimated $\\sigma$) and produces an estimate of the local, $1^\\circ \\times 1^\\circ$ precipitating fraction."
   ]
  },
  {
   "cell_type": "code",
   "execution_count": 1,
   "metadata": {},
   "outputs": [],
   "source": [
    "import numpy as np\n",
    "import matplotlib.pyplot as plt\n",
    "import pickle\n",
    "from os.path import join"
   ]
  },
  {
   "cell_type": "code",
   "execution_count": 2,
   "metadata": {},
   "outputs": [],
   "source": [
    "# Export toggle: True if data will be exported to file(s)\n",
    "export = True "
   ]
  },
  {
   "cell_type": "code",
   "execution_count": 8,
   "metadata": {},
   "outputs": [],
   "source": [
    "import_dir = 'export/' # Folder from which to import data\n",
    "export_dir = 'export/' # Folder to export data"
   ]
  },
  {
   "cell_type": "code",
   "execution_count": 5,
   "metadata": {
    "scrolled": false
   },
   "outputs": [
    {
     "name": "stdout",
     "output_type": "stream",
     "text": [
      "precip dict_keys(['f', 's'])\n",
      "\n",
      "(7, 70, 5, 180, 360)\n"
     ]
    }
   ],
   "source": [
    "with open(join(import_dir, 'fractions.pkl'), 'rb') as f:\n",
    "    fractions = pickle.load(f)\n",
    "\n",
    "for k in fractions.keys():\n",
    "    print(k, fractions[k].keys())\n",
    "    print(k, fractions[k]['f'].shape)\n"
   ]
  },
  {
   "cell_type": "code",
   "execution_count": 11,
   "metadata": {},
   "outputs": [
    {
     "name": "stdout",
     "output_type": "stream",
     "text": [
      "precip\n"
     ]
    }
   ],
   "source": [
    "composites = {}\n",
    "\n",
    "# For each data subset...\n",
    "for k in fractions.keys():\n",
    "    print(k) \n",
    "    f = fractions[k]['f'] # Get the fraction precipitating\n",
    "    s = fractions[k]['s'] # Get the estimated sigma\n",
    "    sratio = s/f\n",
    "        \n",
    "    fcomp = np.zeros(sh[1:], dtype='float32')*np.nan\n",
    "    scomp = np.zeros(sh[1:], dtype='float32')*np.nan\n",
    "    rcomp = np.zeros(sh[1:], dtype='int8') - 1\n",
    "    \n",
    "    for sthresh in [0.4, 0.3, 0.2, 0.1, 0.05, 0.03, 0.02, 0.01, 0.005, 0.003, 0.002, 0.001]: \n",
    "        for i in np.flip(np.arange(sh[0])): # For each aggregation window...\n",
    "            sr = sratio[i]\n",
    "            m1 = sr < sthresh\n",
    "            m2 = (f[i] + s[i]) < 0.01\n",
    "            m = np.logical_or(m1,m2)\n",
    "            fcomp[m] = f[i][m]\n",
    "            scomp[m] = s[i][m]\n",
    "            rcomp[m] = i\n",
    "            \n",
    "    composites[k] = {}\n",
    "    composites[k]['f'] = fcomp\n",
    "    composites[k]['s'] = scomp\n",
    "    composites[k]['r'] = rcomp\n",
    " \n",
    "with open(join(export_dir, 'composites.pkl'), 'wb') as f:\n",
    "    pickle.dump(composites, f)"
   ]
  }
 ],
 "metadata": {
  "kernelspec": {
   "display_name": "Python 3",
   "language": "python",
   "name": "python3"
  },
  "language_info": {
   "codemirror_mode": {
    "name": "ipython",
    "version": 3
   },
   "file_extension": ".py",
   "mimetype": "text/x-python",
   "name": "python",
   "nbconvert_exporter": "python",
   "pygments_lexer": "ipython3",
   "version": "3.6.11"
  },
  "toc": {
   "nav_menu": {},
   "number_sections": true,
   "sideBar": true,
   "skip_h1_title": false,
   "title_cell": "Table of Contents",
   "title_sidebar": "Contents",
   "toc_cell": false,
   "toc_position": {},
   "toc_section_display": true,
   "toc_window_display": false
  }
 },
 "nbformat": 4,
 "nbformat_minor": 2
}
