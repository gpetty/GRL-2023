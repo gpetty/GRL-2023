{
 "cells": [
  {
   "cell_type": "markdown",
   "metadata": {},
   "source": [
    "# Compute Fractions\n",
    "\n",
    "Now that we have convolved grids aggregating the number of reports and the number of precipitating reports over various spatial windows, we can now compute the fraction precipitating per gridbox on a $1^\\circ \\times 1^\\circ$ grid in each season and annually. This notebook iteratively computes the fraction generated at each point as well as an estimated standard error $\\sigma$ generated from a Monte-Carlo routine."
   ]
  },
  {
   "cell_type": "code",
   "execution_count": 1,
   "metadata": {},
   "outputs": [],
   "source": [
    "import numpy as np\n",
    "import matplotlib.pyplot as plt\n",
    "from MNfrac import MNcalc\n",
    "\n",
    "import pickle\n",
    "from os.path import join"
   ]
  },
  {
   "cell_type": "code",
   "execution_count": 2,
   "metadata": {},
   "outputs": [],
   "source": [
    "# Export toggle: True if data will be exported to file(s)\n",
    "export = True "
   ]
  },
  {
   "cell_type": "code",
   "execution_count": 3,
   "metadata": {},
   "outputs": [],
   "source": [
    "import_dir = 'export/' # Directory from which to import data\n",
    "export_dir = 'export/' # Directory to export data"
   ]
  },
  {
   "cell_type": "code",
   "execution_count": 4,
   "metadata": {},
   "outputs": [
    {
     "name": "stdout",
     "output_type": "stream",
     "text": [
      "nreports \t (7, 70, 5, 180, 360)\n",
      "nprecip \t (7, 70, 5, 180, 360)\n"
     ]
    }
   ],
   "source": [
    "# Load yearly/seasonal grids\n",
    "with open(join(import_dir, 'grids.pkl'), 'rb') as f:\n",
    "    grids = pickle.load(f)\n",
    "\n",
    "for k in grids.keys():\n",
    "    print(k, '\\t', grids[k].shape)"
   ]
  },
  {
   "cell_type": "code",
   "execution_count": 5,
   "metadata": {},
   "outputs": [
    {
     "name": "stdout",
     "output_type": "stream",
     "text": [
      "Window 0 Year 0\n",
      "Window 0 Year 10\n",
      "Window 0 Year 20\n",
      "Window 0 Year 30\n",
      "Window 0 Year 40\n",
      "Window 0 Year 50\n",
      "Window 0 Year 60\n",
      "Window 1 Year 0\n",
      "Window 1 Year 10\n",
      "Window 1 Year 20\n",
      "Window 1 Year 30\n",
      "Window 1 Year 40\n",
      "Window 1 Year 50\n",
      "Window 1 Year 60\n",
      "Window 2 Year 0\n",
      "Window 2 Year 10\n",
      "Window 2 Year 20\n",
      "Window 2 Year 30\n",
      "Window 2 Year 40\n",
      "Window 2 Year 50\n",
      "Window 2 Year 60\n",
      "Window 3 Year 0\n",
      "Window 3 Year 10\n",
      "Window 3 Year 20\n",
      "Window 3 Year 30\n",
      "Window 3 Year 40\n",
      "Window 3 Year 50\n",
      "Window 3 Year 60\n",
      "Window 4 Year 0\n",
      "Window 4 Year 10\n",
      "Window 4 Year 20\n",
      "Window 4 Year 30\n",
      "Window 4 Year 40\n",
      "Window 4 Year 50\n",
      "Window 4 Year 60\n",
      "Window 5 Year 0\n",
      "Window 5 Year 10\n",
      "Window 5 Year 20\n",
      "Window 5 Year 30\n",
      "Window 5 Year 40\n",
      "Window 5 Year 50\n",
      "Window 5 Year 60\n",
      "Window 6 Year 0\n",
      "Window 6 Year 10\n",
      "Window 6 Year 20\n",
      "Window 6 Year 30\n",
      "Window 6 Year 40\n",
      "Window 6 Year 50\n",
      "Window 6 Year 60\n"
     ]
    }
   ],
   "source": [
    "### Input grids ###\n",
    "nreports  = grids['nreports']\n",
    "nprecip = grids['nprecip']\n",
    "\n",
    "### Output grids ###\n",
    "sh = nreports.shape # Use the same (window, year, season, lat, lon) dimensions\n",
    "\n",
    "fprecip = np.zeros(sh, dtype='float32') # The fraction precipitating\n",
    "sprecip = np.zeros(sh, dtype='float32') # The estimated standard error of fraction precipitating\n",
    "\n",
    "for I in range(sh[0]): # For each aggregation window...\n",
    "    for J in range(sh[1]): # For each year...\n",
    "        if J%10 == 0: print('Window',I,'Year',J) # Intermittently report progress after processing 1 decade\n",
    "        for K in range(sh[2]): # For each season...\n",
    "            for L in range(sh[3]): # For each latitude bin...\n",
    "                for P in range(sh[4]): # For each longitude bin...\n",
    "                    N = nreports[I,J,K,L,P]   # Number of reports          \n",
    "                    M = nprecip[I,J,K,L,P]  # Number of precipitaitng reports\n",
    "                    \n",
    "                    # Get the fraction precipitating and estimated standard error\n",
    "                    f, sigma = MNcalc(M,N)\n",
    "                    fprecip[I,J,K,L,P] = f\n",
    "                    sprecip[I,J,K,L,P] = sigma"
   ]
  },
  {
   "cell_type": "code",
   "execution_count": 8,
   "metadata": {},
   "outputs": [],
   "source": [
    "# Store fractions and estimated sigma\n",
    "fractions = {'precip' : {'f': fprecip , 's' : sprecip}}\n",
    "\n",
    "if export:\n",
    "    pickle.dump(fractions, open(join(export_dir, 'fractions.pkl'), 'wb'))"
   ]
  }
 ],
 "metadata": {
  "kernelspec": {
   "display_name": "Python 3",
   "language": "python",
   "name": "python3"
  },
  "language_info": {
   "codemirror_mode": {
    "name": "ipython",
    "version": 3
   },
   "file_extension": ".py",
   "mimetype": "text/x-python",
   "name": "python",
   "nbconvert_exporter": "python",
   "pygments_lexer": "ipython3",
   "version": "3.6.11"
  },
  "toc": {
   "nav_menu": {},
   "number_sections": true,
   "sideBar": true,
   "skip_h1_title": false,
   "title_cell": "Table of Contents",
   "title_sidebar": "Contents",
   "toc_cell": false,
   "toc_position": {},
   "toc_section_display": true,
   "toc_window_display": false
  }
 },
 "nbformat": 4,
 "nbformat_minor": 2
}
