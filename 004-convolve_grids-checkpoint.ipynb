{
 "cells": [
  {
   "cell_type": "markdown",
   "metadata": {},
   "source": [
    "# Convolve Grids\n",
    "\n",
    "The ICOADS ship observation data is initially processed at a resolution of $1^\\circ \\times 1^\\circ$. This gives us a relatively high spatial resolution, but as is the nature of ship data, an individual grid cell might contain relatively few observations. We would be able to capture more populated datasets using larger windows. This Python notebook takes the initial gridded data and applies a [box aggregation](https://en.wikipedia.org/wiki/Kernel_(image_processing)) via spatial convolution. This notebook outputs the initial data into convolved grids grouped by the traditional trimonthly seasons (MAM, JJA, SON, DJF) and by the level of convolution."
   ]
  },
  {
   "cell_type": "code",
   "execution_count": 1,
   "metadata": {},
   "outputs": [],
   "source": [
    "# Load libraries\n",
    "import numpy as np\n",
    "import matplotlib.pyplot as plt\n",
    "import pickle\n",
    "from scipy.signal import convolve2d\n",
    "from os.path import join"
   ]
  },
  {
   "cell_type": "code",
   "execution_count": 2,
   "metadata": {},
   "outputs": [],
   "source": [
    "# Export toggle: True if data will be exported to file(s)\n",
    "export = True "
   ]
  },
  {
   "cell_type": "code",
   "execution_count": 3,
   "metadata": {},
   "outputs": [],
   "source": [
    "import_dir = 'export/' # Directory from which to import data\n",
    "export_dir = 'export/' # Directory to export data"
   ]
  },
  {
   "cell_type": "markdown",
   "metadata": {},
   "source": [
    "We also want to filter out land areas on our grid, and to do so, we will need to use a land/sea mask. The land mask, applicable for a $1^\\circ \\times 1^\\circ$ degree grid, is defined to be `True` where there is land and `False` otherwise."
   ]
  },
  {
   "cell_type": "code",
   "execution_count": 4,
   "metadata": {},
   "outputs": [],
   "source": [
    "# Get the land/sea mask\n",
    "ls_mask = np.load('data/landsea_1deg.npy')"
   ]
  },
  {
   "cell_type": "markdown",
   "metadata": {},
   "source": [
    "The gridded data should be stored as a multidimensional array with dimensions (year, month, latitude, longitude), which in the 70-year period of record would be represented by an array with dimensions `(70,12,180,360)`."
   ]
  },
  {
   "cell_type": "code",
   "execution_count": 5,
   "metadata": {},
   "outputs": [
    {
     "data": {
      "text/plain": [
       "(70, 12, 180, 360)"
      ]
     },
     "execution_count": 5,
     "metadata": {},
     "output_type": "execute_result"
    }
   ],
   "source": [
    "# Load 1x1 degree frequency grids\n",
    "nr  = pickle.load(open(join(import_dir, 'nreports.pkl'), 'rb')) # Total reports\n",
    "n50 = pickle.load(open(join(import_dir, 'nprecip.pkl'), 'rb')) # Precipitating reports\n",
    "nr.shape # Verify shape of loaded data"
   ]
  },
  {
   "cell_type": "markdown",
   "metadata": {},
   "source": [
    "Using the $1^\\circ \\times 1^\\circ$ data, we will create new grids that are still mapped to a $1^\\circ \\times 1^\\circ$ grid but incorporate data from the surrounding grid points. Specifically, a processing kernel is applied that aggregates ship reports from surrounding grid points. As a result, the value associated with the gridpoint $(x,y)$ represents the total value from a larger spatial window centered at that point. This processing is performed at $7$ different window sizes and aggregated by season. Below, we create the multidimensional lists that will store this convolved data."
   ]
  },
  {
   "cell_type": "code",
   "execution_count": 6,
   "metadata": {},
   "outputs": [],
   "source": [
    "sh = (7, 70, 5, 180, 360) # 7 windows, 70 years, 4 seasons + 1 annual, 180 latitude bins, 360 longitude bins\n",
    "nreports = np.zeros(sh, dtype='int32')\n",
    "nprecip  = np.zeros(sh, dtype='int32')"
   ]
  },
  {
   "cell_type": "markdown",
   "metadata": {},
   "source": [
    "We then perform the data convolution. Specifically, grids are created representing the following aggregation windows. Since the initial data is on a $1^\\circ \\times 1^\\circ$ grid, a `(9,9)` window aggregates reports over a $9^\\circ \\times 9^\\circ$ window, for instance."
   ]
  },
  {
   "cell_type": "code",
   "execution_count": 7,
   "metadata": {
    "scrolled": true
   },
   "outputs": [
    {
     "name": "stdout",
     "output_type": "stream",
     "text": [
      "(1,1)\n",
      "(3,3)\n",
      "(5,5)\n",
      "(7,7)\n",
      "(9,9)\n",
      "(11,11)\n",
      "(13,27)\n"
     ]
    }
   ],
   "source": [
    "for i in range(sh[0]):\n",
    "    ndim = 2 * i + 1 # Set dimensions of the kernel\n",
    "    if i < sh[0] - 1: # For all except the last\n",
    "        print(f'({ndim},{ndim})')\n",
    "    else:\n",
    "        print(f'({ndim},{2*ndim+1})')"
   ]
  },
  {
   "cell_type": "code",
   "execution_count": 8,
   "metadata": {},
   "outputs": [
    {
     "name": "stdout",
     "output_type": "stream",
     "text": [
      "Processing tlist_in @ index 0\n",
      "a.shape =  (1, 1)\n",
      "a.shape =  (3, 3)\n",
      "a.shape =  (5, 5)\n",
      "a.shape =  (7, 7)\n",
      "a.shape =  (9, 9)\n",
      "a.shape =  (11, 11)\n",
      "a.shape =  (13, 27)\n",
      "Processing tlist_in @ index 1\n"
     ]
    }
   ],
   "source": [
    "months = [[11,0,1], [2,3,4], [5,6,7], [8,9,10], [0,1,2,3,4,5,6,7,8,9,10,11]]  # DJF, MAM, JJA, SON, Annual\n",
    "\n",
    "tlist_in = [nr, n50] # Input arrays\n",
    "tlist_out = [nreports, nprecip] # Output arrays\n",
    "\n",
    "for i,tin in enumerate(tlist_in):\n",
    "    print(f'Processing tlist_in @ index {i}') # Index of 1x1 degree grid in tlist_in to be convolved\n",
    "    tout = tlist_out[i] # Target output grid\n",
    "    \n",
    "    for j in range(sh[0]): # For each window\n",
    "        ndim = 2*j + 1 # Set dimensions of the kernel\n",
    "        # Most of the convolutions will use a square window...\n",
    "        if j < sh[0]-1 :\n",
    "            a = np.ones((ndim,ndim))\n",
    "        # Except the last, which will be rectangular\n",
    "        else:\n",
    "            a = np.ones((ndim,2*ndim+1))\n",
    "        print('Processing window',a.shape)\n",
    "\n",
    "        # For each year in the period of record\n",
    "        for iyr in range(sh[1]):\n",
    "            for iseason in range(len(months)):\n",
    "                for imo in months[iseason]:\n",
    "                    t = tin[iyr,imo,:,:]\n",
    "                    tout[j, iyr,iseason,:,:] += \\\n",
    "                        convolve2d(t, a, mode='same', boundary='wrap').astype('int32')*ls_mask   "
   ]
  },
  {
   "cell_type": "markdown",
   "metadata": {},
   "source": [
    "And finally, export the data:"
   ]
  },
  {
   "cell_type": "code",
   "execution_count": 11,
   "metadata": {},
   "outputs": [],
   "source": [
    "# Create a directory storing the convolved grids\n",
    "grids = {}\n",
    "gnames = ['nreports', 'nprecip']\n",
    "for i in range(len(gnames)):\n",
    "    grids[gnames[i]] = tlist_out[i]\n",
    "    \n",
    "# Save grids\n",
    "if export:\n",
    "    pickle.dump(grids, open(join(export_dir, 'grids.pkl'), 'wb'))"
   ]
  }
 ],
 "metadata": {
  "kernelspec": {
   "display_name": "Python 3",
   "language": "python",
   "name": "python3"
  },
  "language_info": {
   "codemirror_mode": {
    "name": "ipython",
    "version": 3
   },
   "file_extension": ".py",
   "mimetype": "text/x-python",
   "name": "python",
   "nbconvert_exporter": "python",
   "pygments_lexer": "ipython3",
   "version": "3.6.11"
  },
  "toc": {
   "nav_menu": {},
   "number_sections": true,
   "sideBar": true,
   "skip_h1_title": false,
   "title_cell": "Table of Contents",
   "title_sidebar": "Contents",
   "toc_cell": false,
   "toc_position": {},
   "toc_section_display": true,
   "toc_window_display": false
  }
 },
 "nbformat": 4,
 "nbformat_minor": 2
}
